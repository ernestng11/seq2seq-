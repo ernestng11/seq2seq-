{
 "cells": [
  {
   "cell_type": "code",
   "execution_count": 1,
   "metadata": {},
   "outputs": [],
   "source": [
    "import pandas as pd\n",
    "import numpy as np\n",
    "import re"
   ]
  },
  {
   "cell_type": "code",
   "execution_count": 2,
   "metadata": {},
   "outputs": [],
   "source": [
    "df = pd.read_csv('./jokes.csv')"
   ]
  },
  {
   "cell_type": "code",
   "execution_count": 3,
   "metadata": {},
   "outputs": [
    {
     "data": {
      "text/html": [
       "<div>\n",
       "<style scoped>\n",
       "    .dataframe tbody tr th:only-of-type {\n",
       "        vertical-align: middle;\n",
       "    }\n",
       "\n",
       "    .dataframe tbody tr th {\n",
       "        vertical-align: top;\n",
       "    }\n",
       "\n",
       "    .dataframe thead th {\n",
       "        text-align: right;\n",
       "    }\n",
       "</style>\n",
       "<table border=\"1\" class=\"dataframe\">\n",
       "  <thead>\n",
       "    <tr style=\"text-align: right;\">\n",
       "      <th></th>\n",
       "      <th>ID</th>\n",
       "      <th>Question</th>\n",
       "      <th>Answer</th>\n",
       "    </tr>\n",
       "  </thead>\n",
       "  <tbody>\n",
       "    <tr>\n",
       "      <th>0</th>\n",
       "      <td>1</td>\n",
       "      <td>Did you hear about the Native American man tha...</td>\n",
       "      <td>He nearly drown in his own tea pee.</td>\n",
       "    </tr>\n",
       "    <tr>\n",
       "      <th>1</th>\n",
       "      <td>2</td>\n",
       "      <td>What's the best anti diarrheal prescription?</td>\n",
       "      <td>Mycheexarphlexin</td>\n",
       "    </tr>\n",
       "    <tr>\n",
       "      <th>2</th>\n",
       "      <td>3</td>\n",
       "      <td>What do you call a person who is outside a doo...</td>\n",
       "      <td>Matt</td>\n",
       "    </tr>\n",
       "    <tr>\n",
       "      <th>3</th>\n",
       "      <td>4</td>\n",
       "      <td>Which Star Trek character is a member of the m...</td>\n",
       "      <td>Jean-Luc Pickacard</td>\n",
       "    </tr>\n",
       "    <tr>\n",
       "      <th>4</th>\n",
       "      <td>5</td>\n",
       "      <td>What's the difference between a bullet and a h...</td>\n",
       "      <td>A bullet doesn't miss Harambe</td>\n",
       "    </tr>\n",
       "    <tr>\n",
       "      <th>...</th>\n",
       "      <td>...</td>\n",
       "      <td>...</td>\n",
       "      <td>...</td>\n",
       "    </tr>\n",
       "    <tr>\n",
       "      <th>38264</th>\n",
       "      <td>38265</td>\n",
       "      <td>Q: Why did the pacifist /b/tard try to calm ev...</td>\n",
       "      <td>He did it for the</td>\n",
       "    </tr>\n",
       "    <tr>\n",
       "      <th>38265</th>\n",
       "      <td>38266</td>\n",
       "      <td>Q: Why can't Obama poke fun at himself?</td>\n",
       "      <td>A: Because that would be racist.</td>\n",
       "    </tr>\n",
       "    <tr>\n",
       "      <th>38266</th>\n",
       "      <td>38267</td>\n",
       "      <td>Why is gambling not allowed in Africa?</td>\n",
       "      <td>Because there are too many cheetahs.</td>\n",
       "    </tr>\n",
       "    <tr>\n",
       "      <th>38267</th>\n",
       "      <td>38268</td>\n",
       "      <td>What do you call three witches in a hot tub?</td>\n",
       "      <td>A self-cleaning coven.</td>\n",
       "    </tr>\n",
       "    <tr>\n",
       "      <th>38268</th>\n",
       "      <td>38269</td>\n",
       "      <td>What do scientists use to measure a chicken's ...</td>\n",
       "      <td>An egg timer</td>\n",
       "    </tr>\n",
       "  </tbody>\n",
       "</table>\n",
       "<p>38269 rows × 3 columns</p>\n",
       "</div>"
      ],
      "text/plain": [
       "          ID                                           Question  \\\n",
       "0          1  Did you hear about the Native American man tha...   \n",
       "1          2       What's the best anti diarrheal prescription?   \n",
       "2          3  What do you call a person who is outside a doo...   \n",
       "3          4  Which Star Trek character is a member of the m...   \n",
       "4          5  What's the difference between a bullet and a h...   \n",
       "...      ...                                                ...   \n",
       "38264  38265  Q: Why did the pacifist /b/tard try to calm ev...   \n",
       "38265  38266            Q: Why can't Obama poke fun at himself?   \n",
       "38266  38267             Why is gambling not allowed in Africa?   \n",
       "38267  38268       What do you call three witches in a hot tub?   \n",
       "38268  38269  What do scientists use to measure a chicken's ...   \n",
       "\n",
       "                                     Answer  \n",
       "0       He nearly drown in his own tea pee.  \n",
       "1                          Mycheexarphlexin  \n",
       "2                                      Matt  \n",
       "3                        Jean-Luc Pickacard  \n",
       "4             A bullet doesn't miss Harambe  \n",
       "...                                     ...  \n",
       "38264                    He did it for the   \n",
       "38265     A: Because that would be racist.   \n",
       "38266  Because there are too many cheetahs.  \n",
       "38267                A self-cleaning coven.  \n",
       "38268                          An egg timer  \n",
       "\n",
       "[38269 rows x 3 columns]"
      ]
     },
     "execution_count": 3,
     "metadata": {},
     "output_type": "execute_result"
    }
   ],
   "source": [
    "df"
   ]
  },
  {
   "cell_type": "code",
   "execution_count": 4,
   "metadata": {},
   "outputs": [],
   "source": [
    "def _removeNonAscii(s): \n",
    "    return \"\".join(i for i in s if ord(i)<128)\n",
    "\n",
    "def clean_text(text):\n",
    "    '''\n",
    "    Clean text by removing unnecessary characters and altering the format of words.\n",
    "    \n",
    "    '''\n",
    "    text = text.lower()\n",
    "    text = re.sub(r\"i'm\", \"i am\", text)\n",
    "    text = re.sub(r\"he's\", \"he is\", text)\n",
    "    text = re.sub(r\"she's\", \"she is\", text)\n",
    "    text = re.sub(r\"it's\", \"it is\", text)\n",
    "    text = re.sub(r\"that's\", \"that is\", text)\n",
    "    text = re.sub(r\"what's\", \"what is\", text)\n",
    "    text = re.sub(r\"where's\", \"where is\", text)\n",
    "    text = re.sub(r\"how's\", \"how is\", text)\n",
    "    text = re.sub(r\"\\'ll\", \" will\", text)\n",
    "    text = re.sub(r\"\\'ve\", \" have\", text)\n",
    "    text = re.sub(r\"\\'re\", \" are\", text)\n",
    "    text = re.sub(r\"\\'d\", \" would\", text)\n",
    "    text = re.sub(r\"\\'re\", \" are\", text)\n",
    "    text = re.sub(r\"won't\", \"will not\", text)\n",
    "    text = re.sub(r\"can't\", \"cannot\", text)\n",
    "    text = re.sub(r\"n't\", \" not\", text)\n",
    "    text = re.sub(r\"n'\", \"ng\", text)\n",
    "    text = re.sub(r\"'bout\", \"about\", text)\n",
    "    text = re.sub(r\"'til\", \"until\", text)\n",
    "    text = re.sub(r\"[-()\\\"#/@;:<>{}`+=~|.!?,]\", \"\", text)\n",
    "    text = _removeNonAscii(text)\n",
    "    text = text.strip()\n",
    "    \n",
    "    return text\n",
    "\n",
    "def tagger(decoder_input_sentence):\n",
    "    '''\n",
    "    Tag decoder inputs\n",
    "    \n",
    "    '''\n",
    "    bos = \"<BOS> \"\n",
    "    eos = \" <EOS>\"\n",
    "    final_target = bos + decoder_input_sentence + eos\n",
    "    return final_target"
   ]
  },
  {
   "cell_type": "code",
   "execution_count": 5,
   "metadata": {},
   "outputs": [],
   "source": [
    "df['clean_qn'] = df['Question'].apply(lambda x: clean_text(x))\n",
    "df['clean_ans'] = df['Answer'].apply(lambda x: clean_text(x))"
   ]
  },
  {
   "cell_type": "code",
   "execution_count": 6,
   "metadata": {
    "scrolled": true
   },
   "outputs": [
    {
     "data": {
      "text/html": [
       "<div>\n",
       "<style scoped>\n",
       "    .dataframe tbody tr th:only-of-type {\n",
       "        vertical-align: middle;\n",
       "    }\n",
       "\n",
       "    .dataframe tbody tr th {\n",
       "        vertical-align: top;\n",
       "    }\n",
       "\n",
       "    .dataframe thead th {\n",
       "        text-align: right;\n",
       "    }\n",
       "</style>\n",
       "<table border=\"1\" class=\"dataframe\">\n",
       "  <thead>\n",
       "    <tr style=\"text-align: right;\">\n",
       "      <th></th>\n",
       "      <th>ID</th>\n",
       "      <th>Question</th>\n",
       "      <th>Answer</th>\n",
       "      <th>clean_qn</th>\n",
       "      <th>clean_ans</th>\n",
       "    </tr>\n",
       "  </thead>\n",
       "  <tbody>\n",
       "    <tr>\n",
       "      <th>0</th>\n",
       "      <td>1</td>\n",
       "      <td>Did you hear about the Native American man tha...</td>\n",
       "      <td>He nearly drown in his own tea pee.</td>\n",
       "      <td>did you hear about the native american man tha...</td>\n",
       "      <td>he nearly drown in his own tea pee</td>\n",
       "    </tr>\n",
       "    <tr>\n",
       "      <th>1</th>\n",
       "      <td>2</td>\n",
       "      <td>What's the best anti diarrheal prescription?</td>\n",
       "      <td>Mycheexarphlexin</td>\n",
       "      <td>what is the best anti diarrheal prescription</td>\n",
       "      <td>mycheexarphlexin</td>\n",
       "    </tr>\n",
       "    <tr>\n",
       "      <th>2</th>\n",
       "      <td>3</td>\n",
       "      <td>What do you call a person who is outside a doo...</td>\n",
       "      <td>Matt</td>\n",
       "      <td>what do you call a person who is outside a doo...</td>\n",
       "      <td>matt</td>\n",
       "    </tr>\n",
       "    <tr>\n",
       "      <th>3</th>\n",
       "      <td>4</td>\n",
       "      <td>Which Star Trek character is a member of the m...</td>\n",
       "      <td>Jean-Luc Pickacard</td>\n",
       "      <td>which star trek character is a member of the m...</td>\n",
       "      <td>jeanluc pickacard</td>\n",
       "    </tr>\n",
       "    <tr>\n",
       "      <th>4</th>\n",
       "      <td>5</td>\n",
       "      <td>What's the difference between a bullet and a h...</td>\n",
       "      <td>A bullet doesn't miss Harambe</td>\n",
       "      <td>what is the difference between a bullet and a ...</td>\n",
       "      <td>a bullet does not miss harambe</td>\n",
       "    </tr>\n",
       "  </tbody>\n",
       "</table>\n",
       "</div>"
      ],
      "text/plain": [
       "   ID                                           Question  \\\n",
       "0   1  Did you hear about the Native American man tha...   \n",
       "1   2       What's the best anti diarrheal prescription?   \n",
       "2   3  What do you call a person who is outside a doo...   \n",
       "3   4  Which Star Trek character is a member of the m...   \n",
       "4   5  What's the difference between a bullet and a h...   \n",
       "\n",
       "                                Answer  \\\n",
       "0  He nearly drown in his own tea pee.   \n",
       "1                     Mycheexarphlexin   \n",
       "2                                 Matt   \n",
       "3                   Jean-Luc Pickacard   \n",
       "4        A bullet doesn't miss Harambe   \n",
       "\n",
       "                                            clean_qn  \\\n",
       "0  did you hear about the native american man tha...   \n",
       "1       what is the best anti diarrheal prescription   \n",
       "2  what do you call a person who is outside a doo...   \n",
       "3  which star trek character is a member of the m...   \n",
       "4  what is the difference between a bullet and a ...   \n",
       "\n",
       "                            clean_ans  \n",
       "0  he nearly drown in his own tea pee  \n",
       "1                    mycheexarphlexin  \n",
       "2                                matt  \n",
       "3                   jeanluc pickacard  \n",
       "4      a bullet does not miss harambe  "
      ]
     },
     "execution_count": 6,
     "metadata": {},
     "output_type": "execute_result"
    }
   ],
   "source": [
    "df.head()"
   ]
  },
  {
   "cell_type": "markdown",
   "metadata": {},
   "source": [
    "### Create encoder-decoder text pairs\n",
    "\n",
    "Here, we have input sequence and  a target sequence. We will have to create separate lists for input sequences and target sequences and we will also need to create lists for unique tokens (input tokens and target tokens) in our dataset."
   ]
  },
  {
   "cell_type": "code",
   "execution_count": 7,
   "metadata": {},
   "outputs": [],
   "source": [
    "text_input = df['clean_qn'].tolist()\n",
    "text_output = df['clean_ans'].tolist()\n",
    "pairs = list(zip(text_input, text_output))\n",
    "np.random.shuffle(pairs)"
   ]
  },
  {
   "cell_type": "code",
   "execution_count": 8,
   "metadata": {},
   "outputs": [
    {
     "data": {
      "text/plain": [
       "[('where do orphans go when they are sick', 'obviously not the family doctor')]"
      ]
     },
     "execution_count": 8,
     "metadata": {},
     "output_type": "execute_result"
    }
   ],
   "source": [
    "pairs[:1]"
   ]
  },
  {
   "cell_type": "markdown",
   "metadata": {},
   "source": [
    "#### Example\n",
    "input sequence: 'did you hear about dr dank'\n",
    "\n",
    "target sequence: 'he checked meme out at 420 said i have dope currently blazing it down the highway in his gr8 van creddit 2 my m80'"
   ]
  },
  {
   "cell_type": "markdown",
   "metadata": {},
   "source": [
    "### Create our vocabulary set\n",
    "\n",
    "Now we will create a word2idx dictionary that will store our input tokens as key-value pairs, the word being the key and value is the index. Features dictionary will help us encode our sentences into one-hot vectors. To decode the sentences we will need to create the reverse dictionary, idx2word that stores index as a key and word as a value.\n",
    "\n",
    "For target sequences, we will add ‘<BOS>’ at the beginning of the sequence and ‘<EOS>’ at the end of the sequence so that our model knows where to start and end text generation."
   ]
  },
  {
   "cell_type": "code",
   "execution_count": 9,
   "metadata": {},
   "outputs": [
    {
     "name": "stderr",
     "output_type": "stream",
     "text": [
      "Using TensorFlow backend.\n"
     ]
    }
   ],
   "source": [
    "target_docs = []\n",
    "input_tokens = set()\n",
    "target_tokens = set()\n",
    "\n",
    "for line in pairs:\n",
    "    _, text = line[0], line[1]\n",
    "    # Redefine target_doc below and append it to target_docs\n",
    "    target_doc = '<BOS> ' + text + ' <EOS>'\n",
    "    target_docs.append(target_doc)\n",
    "\n",
    "from keras.preprocessing.text import Tokenizer\n",
    "\n",
    "def create_vocab(text_lists, VOCAB_SIZE):\n",
    "    tokenizer = Tokenizer(num_words=VOCAB_SIZE)\n",
    "    tokenizer.fit_on_texts(text_lists)\n",
    "    dictionary = tokenizer.word_index\n",
    "    word2idx = {}\n",
    "    idx2word = {}\n",
    "    for k, v in dictionary.items():\n",
    "        if v <= VOCAB_SIZE:\n",
    "            word2idx[k] = v\n",
    "            idx2word[v] = k\n",
    "        if v > VOCAB_SIZE-1:\n",
    "            continue\n",
    "          \n",
    "    return word2idx, idx2word"
   ]
  },
  {
   "cell_type": "code",
   "execution_count": 44,
   "metadata": {},
   "outputs": [],
   "source": [
    "word2idx, idx2word = create_vocab(text_lists=text_input+target_docs, VOCAB_SIZE=15000)"
   ]
  },
  {
   "cell_type": "code",
   "execution_count": 45,
   "metadata": {},
   "outputs": [
    {
     "data": {
      "text/plain": [
       "15000"
      ]
     },
     "execution_count": 45,
     "metadata": {},
     "output_type": "execute_result"
    }
   ],
   "source": [
    "len(word2idx)"
   ]
  },
  {
   "cell_type": "markdown",
   "metadata": {},
   "source": [
    "### Model Training\n",
    "\n",
    "To train our seq2seq model we will use three matrices of one-hot vectors:\n",
    "1. Encoder input data, \n",
    "2. Decoder input data\n",
    "2. Decoder output data\n",
    "\n",
    "We use two matrices for the Decoder is a method called teacher forcing which is used by the seq2seq model while training. What is the idea behind this? We have an input token from the previous timestep to help the model train for the current target token."
   ]
  },
  {
   "cell_type": "code",
   "execution_count": 46,
   "metadata": {},
   "outputs": [],
   "source": [
    "assert idx2word[1] == idx2word[word2idx[idx2word[1]]]\n",
    "MAX_LEN = 20\n",
    "VOCAB_SIZE = 15000\n",
    "def tokenizer(desc, word2idx, max_desc_length=MAX_LEN):\n",
    "    '''\n",
    "    Function to tokenize descriptions\n",
    "    Inputs:\n",
    "    - text\n",
    "    - word2idx, dictionary mapping words to their corresponding tokens\n",
    "    - max_desc_length, used for pre-padding the descriptions where the no. of words is less than this number\n",
    "    Ouput:\n",
    "    List of length max_desc_length, pre-padded with zeroes if the desc length was less than max_desc_length\n",
    "    '''\n",
    "    a = [word2idx[i] if i in word2idx else 0 for i in desc.split()]\n",
    "    b = [0] * max_desc_length\n",
    "    if len(a)<max_desc_length:\n",
    "        return np.asarray(b[:max_desc_length-len(a)]+a).squeeze()\n",
    "    else:\n",
    "        return np.asarray(a[:max_desc_length]).squeeze()"
   ]
  },
  {
   "cell_type": "code",
   "execution_count": 47,
   "metadata": {},
   "outputs": [],
   "source": [
    "encoder_seq = np.squeeze([tokenizer(x, word2idx) for x in text_input])\n",
    "decoder_seq = np.squeeze([tokenizer(x, word2idx) for x in target_docs])"
   ]
  },
  {
   "cell_type": "code",
   "execution_count": 48,
   "metadata": {},
   "outputs": [
    {
     "data": {
      "text/plain": [
       "array([[   0,    0,    0, ...,  369,  310,    0],\n",
       "       [   0,    0,    0, ..., 3437,    0,    0],\n",
       "       [   0,    0,    0, ...,   15,  643,    0],\n",
       "       ...,\n",
       "       [   0,    0,    0, ...,    0,    0,    0],\n",
       "       [   0,    0,    0, ...,  125,  357,    0],\n",
       "       [   0,    0,    0, ...,  341,  987,    0]])"
      ]
     },
     "execution_count": 48,
     "metadata": {},
     "output_type": "execute_result"
    }
   ],
   "source": [
    "decoder_seq"
   ]
  },
  {
   "cell_type": "code",
   "execution_count": 49,
   "metadata": {},
   "outputs": [],
   "source": [
    "EMBEDDING_DIM = 50\n",
    "def glove_50d_dictionary(GLOVE_DIR):\n",
    "    embeddings_index = {}\n",
    "    with open(\"./glove.6B.50d.txt\", 'r', encoding=\"utf-8\") as f:\n",
    "        for line in f:\n",
    "            values = line.split()\n",
    "            word = values[0]\n",
    "            coefs = np.asarray(values[1:], dtype='float32')\n",
    "            embeddings_index[word] = coefs\n",
    "    \n",
    "    return embeddings_index\n",
    "word2vec = glove_50d_dictionary('./')"
   ]
  },
  {
   "cell_type": "code",
   "execution_count": 50,
   "metadata": {
    "scrolled": true
   },
   "outputs": [
    {
     "data": {
      "text/plain": [
       "array([-0.37915 ,  0.61848 ,  0.9593  ,  0.90403 ,  0.36806 ,  0.022972,\n",
       "        0.16795 , -1.5309  , -0.060533, -0.25    ,  0.15031 ,  0.31967 ,\n",
       "       -0.68914 , -0.78626 , -0.015825,  0.50531 , -0.8473  , -0.12353 ,\n",
       "        0.078526, -0.96024 , -0.54313 , -0.33516 ,  0.38932 ,  0.19461 ,\n",
       "       -1.1688  , -0.86608 , -0.39178 ,  0.24183 ,  0.32862 , -0.78755 ,\n",
       "        2.4884  ,  0.71015 , -0.53114 ,  0.89593 , -0.23053 , -0.82023 ,\n",
       "        0.34425 , -0.96866 , -0.15143 , -0.44912 ,  0.89513 , -0.01659 ,\n",
       "       -0.2749  ,  0.27948 ,  0.77936 , -0.31944 ,  0.16756 , -0.62515 ,\n",
       "        0.053323,  0.62023 ], dtype=float32)"
      ]
     },
     "execution_count": 50,
     "metadata": {},
     "output_type": "execute_result"
    }
   ],
   "source": [
    "word2vec.get('the'[0])"
   ]
  },
  {
   "cell_type": "code",
   "execution_count": 143,
   "metadata": {},
   "outputs": [
    {
     "data": {
      "text/plain": [
       "(38269, 20)"
      ]
     },
     "execution_count": 143,
     "metadata": {},
     "output_type": "execute_result"
    }
   ],
   "source": [
    "decoder_seq.shape"
   ]
  },
  {
   "cell_type": "markdown",
   "metadata": {},
   "source": [
    "Reading a pre-trained word embedding and addapting to our vocabulary:"
   ]
  },
  {
   "cell_type": "code",
   "execution_count": 58,
   "metadata": {},
   "outputs": [],
   "source": [
    "# this time: embedding_dimension = 50d\n",
    "def embedding_matrix_creater(embedding_dimension):\n",
    "    embedding_matrix = np.zeros((len(word2idx)+1, embedding_dimension))\n",
    "    i = 0\n",
    "    for word in word2idx:\n",
    "        embedding_vector = word2vec.get(word[0])\n",
    "        if embedding_vector is not None:\n",
    "            # words not found in embedding index will be all-zeros.\n",
    "            embedding_matrix[i] = embedding_vector\n",
    "        i+=1\n",
    "    return embedding_matrix\n",
    "\n",
    "embedding_matrix = embedding_matrix_creater(EMBEDDING_DIM)"
   ]
  },
  {
   "cell_type": "code",
   "execution_count": 59,
   "metadata": {},
   "outputs": [
    {
     "data": {
      "text/plain": [
       "(15001, 50)"
      ]
     },
     "execution_count": 59,
     "metadata": {},
     "output_type": "execute_result"
    }
   ],
   "source": [
    "embedding_matrix.shape"
   ]
  },
  {
   "cell_type": "markdown",
   "metadata": {},
   "source": [
    "### Keras Model"
   ]
  },
  {
   "cell_type": "code",
   "execution_count": 148,
   "metadata": {},
   "outputs": [],
   "source": [
    "from keras.layers import Input, Embedding, LSTM, Dense, RepeatVector, Bidirectional, Dropout, merge, TimeDistributed\n",
    "from keras.optimizers import Adam, SGD\n",
    "from keras.models import Model\n",
    "from keras.models import Sequential\n",
    "from keras.layers import Activation, Dense\n",
    "from keras.callbacks import EarlyStopping\n",
    "from keras.preprocessing import sequence\n",
    "\n",
    "MAX_LEN = 20\n",
    "num_samples = 38269\n",
    "VOCAB_SIZE = 15000\n",
    "SENTENCE_EMBEDDING_SIZE = 300\n",
    "WORD_EMBED_SIZE = 50\n",
    "def build_model(hidden_dim=SENTENCE_EMBEDDING_SIZE, word_embed_size=WORD_EMBED_SIZE, vocab_size=VOCAB_SIZE, embed_matrix=embedding_matrix, max_len=MAX_LEN):\n",
    "    input_context = Input(shape=(MAX_LEN,), dtype='int32', name='input_context')\n",
    "    input_answer = Input(shape=(MAX_LEN,), dtype='int32', name='input_answer')\n",
    "    #Encoder-Decoder\n",
    "    LSTM_Encoder = LSTM(hidden_dim, return_state=True)\n",
    "    LSTM_Decoder = LSTM(hidden_dim, return_state=True, return_sequences=True)\n",
    "    #Embedding layer\n",
    "    Shared_Embedding = Embedding(output_dim=word_embed_size, \n",
    "                                 input_dim=vocab_size+1, \n",
    "                                 weights=[embed_matrix], \n",
    "                                 input_length=max_len)\n",
    "    #Encoder\n",
    "    encoder_embed = Shared_Embedding(input_context)\n",
    "    encoder_output, state_h, state_c = LSTM_Encoder(encoder_embed)\n",
    "    encoder_states = [state_h, state_c]\n",
    "    #Decoder\n",
    "    decoder_embed = Shared_Embedding(input_answer)\n",
    "    decoder_output, _, _ = LSTM_Decoder(decoder_embed, initial_state=encoder_states)\n",
    "    #FC layer\n",
    "    #merge_layer = merge([encoder_output, decoder_output], mode='concat', concat_axis=1)\n",
    "    #out = Dense(vocab_size/2, activation=\"relu\")(merge_layer)\n",
    "    #out = Dense(vocab_size, activation=\"softmax\")(out)\n",
    "    #Full Model\n",
    "    #model = Model(input=[input_context, input_answer], output = [out])\n",
    "    # dense_layer = Dense(VOCAB_SIZE, activation='softmax')\n",
    "    output = TimeDistributed(Dense(vocab_size, activation='softmax'))(decoder_output)\n",
    "    model = Model([input_context, input_answer], output)\n",
    "    model.compile(optimizer='adam', loss='categorical_crossentropy', \n",
    "                 metrics=['accuracy'], sample_weight_mode='temporal')\n",
    "\n",
    "    return model\n",
    "    "
   ]
  },
  {
   "cell_type": "code",
   "execution_count": 149,
   "metadata": {
    "scrolled": false
   },
   "outputs": [
    {
     "name": "stdout",
     "output_type": "stream",
     "text": [
      "Model: \"model_20\"\n",
      "__________________________________________________________________________________________________\n",
      "Layer (type)                    Output Shape         Param #     Connected to                     \n",
      "==================================================================================================\n",
      "input_answer (InputLayer)       (None, 20)           0                                            \n",
      "__________________________________________________________________________________________________\n",
      "input_context (InputLayer)      (None, 20)           0                                            \n",
      "__________________________________________________________________________________________________\n",
      "embedding_17 (Embedding)        (None, 20, 50)       750050      input_context[0][0]              \n",
      "                                                                 input_answer[0][0]               \n",
      "__________________________________________________________________________________________________\n",
      "lstm_33 (LSTM)                  [(None, 300), (None, 421200      embedding_17[0][0]               \n",
      "__________________________________________________________________________________________________\n",
      "lstm_34 (LSTM)                  [(None, 20, 300), (N 421200      embedding_17[1][0]               \n",
      "                                                                 lstm_33[0][1]                    \n",
      "                                                                 lstm_33[0][2]                    \n",
      "__________________________________________________________________________________________________\n",
      "time_distributed_13 (TimeDistri (None, 20, 15000)    4515000     lstm_34[0][0]                    \n",
      "==================================================================================================\n",
      "Total params: 6,107,450\n",
      "Trainable params: 6,107,450\n",
      "Non-trainable params: 0\n",
      "__________________________________________________________________________________________________\n"
     ]
    }
   ],
   "source": [
    "model = build_model()\n",
    "model.summary()"
   ]
  },
  {
   "cell_type": "code",
   "execution_count": 62,
   "metadata": {},
   "outputs": [
    {
     "name": "stdout",
     "output_type": "stream",
     "text": [
      "(38269, 20, 15000)\n"
     ]
    }
   ],
   "source": [
    "def decoder_output_creater(decoder_input_data, num_samples, MAX_LEN, VOCAB_SIZE):\n",
    "    decoder_output_data = np.zeros((num_samples, MAX_LEN, VOCAB_SIZE), dtype=\"float32\")\n",
    "    for i, seqs in enumerate(decoder_input_data):\n",
    "        for j, seq in enumerate(seqs):\n",
    "            if j > 0:\n",
    "                decoder_output_data[i,j-1,seq] = 1.\n",
    "    print(decoder_output_data.shape)\n",
    "    return decoder_output_data\n",
    "\n",
    "decoder_output_data = decoder_output_creater(decoder_seq, num_samples, MAX_LEN, VOCAB_SIZE)\n"
   ]
  },
  {
   "cell_type": "code",
   "execution_count": 156,
   "metadata": {
    "scrolled": true
   },
   "outputs": [
    {
     "name": "stdout",
     "output_type": "stream",
     "text": [
      "Epoch 1/100\n",
      "38269/38269 [==============================] - 539s 14ms/step - loss: 1.9835 - accuracy: 0.7267\n",
      "Epoch 2/100\n",
      "38269/38269 [==============================] - 532s 14ms/step - loss: 1.8452 - accuracy: 0.7356\n",
      "Epoch 3/100\n",
      "38269/38269 [==============================] - 548s 14ms/step - loss: 1.7658 - accuracy: 0.7396\n",
      "Epoch 4/100\n",
      "38269/38269 [==============================] - 556s 15ms/step - loss: 1.7046 - accuracy: 0.7431\n",
      "Epoch 5/100\n",
      "38269/38269 [==============================] - 557s 15ms/step - loss: 1.6524 - accuracy: 0.7461\n",
      "Epoch 6/100\n",
      "38269/38269 [==============================] - 559s 15ms/step - loss: 1.6058 - accuracy: 0.7492\n",
      "Epoch 7/100\n",
      "38269/38269 [==============================] - 560s 15ms/step - loss: 1.5625 - accuracy: 0.7524\n",
      "Epoch 8/100\n",
      "38269/38269 [==============================] - 558s 15ms/step - loss: 1.5214 - accuracy: 0.7554\n",
      "Epoch 9/100\n",
      "38269/38269 [==============================] - 566s 15ms/step - loss: 1.4826 - accuracy: 0.7581\n",
      "Epoch 10/100\n",
      "38269/38269 [==============================] - 565s 15ms/step - loss: 1.4460 - accuracy: 0.7606\n",
      "Epoch 11/100\n",
      "38269/38269 [==============================] - 566s 15ms/step - loss: 1.4114 - accuracy: 0.7634\n",
      "Epoch 12/100\n",
      "38269/38269 [==============================] - 560s 15ms/step - loss: 1.3783 - accuracy: 0.7660\n",
      "Epoch 13/100\n",
      "38269/38269 [==============================] - 564s 15ms/step - loss: 1.3474 - accuracy: 0.7687\n",
      "Epoch 14/100\n",
      "38269/38269 [==============================] - 566s 15ms/step - loss: 1.3185 - accuracy: 0.7717\n",
      "Epoch 15/100\n",
      "38269/38269 [==============================] - 565s 15ms/step - loss: 1.2920 - accuracy: 0.7747\n",
      "Epoch 16/100\n",
      "38269/38269 [==============================] - 565s 15ms/step - loss: 1.2663 - accuracy: 0.7777\n",
      "Epoch 17/100\n",
      "38269/38269 [==============================] - 568s 15ms/step - loss: 1.2432 - accuracy: 0.7809\n",
      "Epoch 18/100\n",
      "38269/38269 [==============================] - 568s 15ms/step - loss: 1.2216 - accuracy: 0.7837\n",
      "Epoch 19/100\n",
      "38269/38269 [==============================] - 593s 15ms/step - loss: 1.2013 - accuracy: 0.7862\n",
      "Epoch 20/100\n",
      "38269/38269 [==============================] - 598s 16ms/step - loss: 1.1845 - accuracy: 0.7887\n",
      "Epoch 21/100\n",
      "38269/38269 [==============================] - 640s 17ms/step - loss: 1.1650 - accuracy: 0.7915\n",
      "Epoch 22/100\n",
      "38269/38269 [==============================] - 624s 16ms/step - loss: 1.1484 - accuracy: 0.7938\n",
      "Epoch 23/100\n",
      "38269/38269 [==============================] - 575s 15ms/step - loss: 1.1324 - accuracy: 0.7962\n",
      "Epoch 24/100\n",
      "38269/38269 [==============================] - 574s 15ms/step - loss: 1.1169 - accuracy: 0.7983\n",
      "Epoch 25/100\n",
      "38269/38269 [==============================] - 567s 15ms/step - loss: 1.1023 - accuracy: 0.8002\n",
      "Epoch 26/100\n",
      "38269/38269 [==============================] - 560s 15ms/step - loss: 1.0885 - accuracy: 0.8023\n",
      "Epoch 27/100\n",
      "38269/38269 [==============================] - 556s 15ms/step - loss: 1.0749 - accuracy: 0.8041\n",
      "Epoch 28/100\n",
      "38269/38269 [==============================] - 554s 14ms/step - loss: 1.0621 - accuracy: 0.8062\n",
      "Epoch 29/100\n",
      "38269/38269 [==============================] - 553s 14ms/step - loss: 1.0499 - accuracy: 0.8079\n",
      "Epoch 30/100\n",
      "38269/38269 [==============================] - 556s 15ms/step - loss: 1.0377 - accuracy: 0.8098\n",
      "Epoch 31/100\n",
      "38269/38269 [==============================] - 555s 15ms/step - loss: 1.0261 - accuracy: 0.8118\n",
      "Epoch 32/100\n",
      "38269/38269 [==============================] - 555s 15ms/step - loss: 1.0153 - accuracy: 0.8133\n",
      "Epoch 33/100\n",
      "38269/38269 [==============================] - 556s 15ms/step - loss: 1.0043 - accuracy: 0.8150\n",
      "Epoch 34/100\n",
      "38269/38269 [==============================] - 557s 15ms/step - loss: 0.9938 - accuracy: 0.8165\n",
      "Epoch 35/100\n",
      "38269/38269 [==============================] - 554s 14ms/step - loss: 0.9835 - accuracy: 0.8183\n",
      "Epoch 36/100\n",
      "38269/38269 [==============================] - 604s 16ms/step - loss: 0.9737 - accuracy: 0.8197\n",
      "Epoch 37/100\n",
      "38269/38269 [==============================] - 603s 16ms/step - loss: 0.9637 - accuracy: 0.8213\n",
      "Epoch 38/100\n",
      "38269/38269 [==============================] - 617s 16ms/step - loss: 0.9547 - accuracy: 0.8230\n",
      "Epoch 39/100\n",
      "38269/38269 [==============================] - 539s 14ms/step - loss: 0.9451 - accuracy: 0.8243\n",
      "Epoch 40/100\n",
      "38269/38269 [==============================] - 535s 14ms/step - loss: 0.9363 - accuracy: 0.8258\n",
      "Epoch 41/100\n",
      "38269/38269 [==============================] - 537s 14ms/step - loss: 0.9276 - accuracy: 0.8273\n",
      "Epoch 42/100\n",
      "38269/38269 [==============================] - 547s 14ms/step - loss: 0.9186 - accuracy: 0.8289\n",
      "Epoch 43/100\n",
      "38269/38269 [==============================] - 633s 17ms/step - loss: 0.9102 - accuracy: 0.8302\n",
      "Epoch 44/100\n",
      "38269/38269 [==============================] - 625s 16ms/step - loss: 0.9018 - accuracy: 0.8316\n",
      "Epoch 45/100\n",
      "38269/38269 [==============================] - 756s 20ms/step - loss: 0.8938 - accuracy: 0.8327\n",
      "Epoch 46/100\n",
      "38269/38269 [==============================] - 816s 21ms/step - loss: 0.8859 - accuracy: 0.8341\n",
      "Epoch 47/100\n",
      "38269/38269 [==============================] - 795s 21ms/step - loss: 0.8776 - accuracy: 0.8356\n",
      "Epoch 48/100\n",
      "38269/38269 [==============================] - 605s 16ms/step - loss: 0.8696 - accuracy: 0.8369\n",
      "Epoch 49/100\n",
      "38269/38269 [==============================] - 605s 16ms/step - loss: 0.8621 - accuracy: 0.8379\n",
      "Epoch 50/100\n",
      "38269/38269 [==============================] - 602s 16ms/step - loss: 0.8548 - accuracy: 0.8391\n",
      "Epoch 51/100\n",
      "38269/38269 [==============================] - 595s 16ms/step - loss: 0.8472 - accuracy: 0.8405\n",
      "Epoch 52/100\n",
      "38269/38269 [==============================] - 583s 15ms/step - loss: 0.8396 - accuracy: 0.8418\n",
      "Epoch 53/100\n",
      "38269/38269 [==============================] - 584s 15ms/step - loss: 0.8334 - accuracy: 0.8428\n",
      "Epoch 54/100\n",
      "38269/38269 [==============================] - 666s 17ms/step - loss: 0.8257 - accuracy: 0.8440\n",
      "Epoch 55/100\n",
      "38269/38269 [==============================] - 664s 17ms/step - loss: 0.8188 - accuracy: 0.8452\n",
      "Epoch 56/100\n",
      "38269/38269 [==============================] - 546s 14ms/step - loss: 0.8118 - accuracy: 0.8465\n",
      "Epoch 57/100\n",
      "38269/38269 [==============================] - 529s 14ms/step - loss: 0.8050 - accuracy: 0.8476\n",
      "Epoch 58/100\n",
      "38269/38269 [==============================] - 531s 14ms/step - loss: 0.7982 - accuracy: 0.8487\n",
      "Epoch 59/100\n",
      "38269/38269 [==============================] - 533s 14ms/step - loss: 0.7927 - accuracy: 0.8497\n",
      "Epoch 60/100\n",
      "38269/38269 [==============================] - 533s 14ms/step - loss: 0.7857 - accuracy: 0.8508\n",
      "Epoch 61/100\n",
      "38269/38269 [==============================] - 534s 14ms/step - loss: 0.7795 - accuracy: 0.8518\n",
      "Epoch 62/100\n",
      "38269/38269 [==============================] - 535s 14ms/step - loss: 0.7732 - accuracy: 0.8528\n",
      "Epoch 63/100\n",
      "38269/38269 [==============================] - 533s 14ms/step - loss: 0.7665 - accuracy: 0.8541\n",
      "Epoch 64/100\n",
      "38269/38269 [==============================] - 539s 14ms/step - loss: 0.7610 - accuracy: 0.8550\n",
      "Epoch 65/100\n",
      "38269/38269 [==============================] - 536s 14ms/step - loss: 0.7547 - accuracy: 0.8560\n",
      "Epoch 66/100\n",
      "38269/38269 [==============================] - 535s 14ms/step - loss: 0.7484 - accuracy: 0.8571\n",
      "Epoch 67/100\n",
      "38269/38269 [==============================] - 535s 14ms/step - loss: 0.7430 - accuracy: 0.8578\n",
      "Epoch 68/100\n",
      "38269/38269 [==============================] - 532s 14ms/step - loss: 0.7375 - accuracy: 0.8589\n",
      "Epoch 69/100\n",
      "38269/38269 [==============================] - 534s 14ms/step - loss: 0.7312 - accuracy: 0.8600\n",
      "Epoch 70/100\n",
      "38269/38269 [==============================] - 533s 14ms/step - loss: 0.7255 - accuracy: 0.8611\n",
      "Epoch 71/100\n",
      "38269/38269 [==============================] - 533s 14ms/step - loss: 0.7201 - accuracy: 0.8620\n",
      "Epoch 72/100\n",
      "38269/38269 [==============================] - 535s 14ms/step - loss: 0.7146 - accuracy: 0.8629\n",
      "Epoch 73/100\n",
      "38269/38269 [==============================] - 535s 14ms/step - loss: 0.7091 - accuracy: 0.8639\n",
      "Epoch 74/100\n",
      "38269/38269 [==============================] - 533s 14ms/step - loss: 0.7036 - accuracy: 0.8648\n",
      "Epoch 75/100\n",
      "38269/38269 [==============================] - 531s 14ms/step - loss: 0.6983 - accuracy: 0.8658\n",
      "Epoch 76/100\n"
     ]
    },
    {
     "name": "stdout",
     "output_type": "stream",
     "text": [
      "38269/38269 [==============================] - 533s 14ms/step - loss: 0.6936 - accuracy: 0.8666\n",
      "Epoch 77/100\n",
      "38269/38269 [==============================] - 534s 14ms/step - loss: 0.6877 - accuracy: 0.8673\n",
      "Epoch 78/100\n",
      "38269/38269 [==============================] - 533s 14ms/step - loss: 0.6825 - accuracy: 0.8683\n",
      "Epoch 79/100\n",
      "38269/38269 [==============================] - 533s 14ms/step - loss: 0.6778 - accuracy: 0.8691\n",
      "Epoch 80/100\n",
      "38269/38269 [==============================] - 534s 14ms/step - loss: 0.6730 - accuracy: 0.8698\n",
      "Epoch 81/100\n",
      "38269/38269 [==============================] - 534s 14ms/step - loss: 0.6675 - accuracy: 0.8710\n",
      "Epoch 82/100\n",
      "38269/38269 [==============================] - 535s 14ms/step - loss: 0.6627 - accuracy: 0.8719\n",
      "Epoch 83/100\n",
      "38269/38269 [==============================] - 534s 14ms/step - loss: 0.6579 - accuracy: 0.8726\n",
      "Epoch 84/100\n",
      "38269/38269 [==============================] - 555s 15ms/step - loss: 0.6535 - accuracy: 0.8733\n",
      "Epoch 85/100\n",
      "38269/38269 [==============================] - 582s 15ms/step - loss: 0.6483 - accuracy: 0.8744\n",
      "Epoch 86/100\n",
      "38269/38269 [==============================] - 536s 14ms/step - loss: 0.6441 - accuracy: 0.8749\n",
      "Epoch 87/100\n",
      "38269/38269 [==============================] - 534s 14ms/step - loss: 0.6390 - accuracy: 0.8757\n",
      "Epoch 88/100\n",
      "38269/38269 [==============================] - 535s 14ms/step - loss: 0.6342 - accuracy: 0.8767\n",
      "Epoch 89/100\n",
      "38269/38269 [==============================] - 535s 14ms/step - loss: 0.6301 - accuracy: 0.8774\n",
      "Epoch 90/100\n",
      "38269/38269 [==============================] - 531s 14ms/step - loss: 0.6260 - accuracy: 0.8780\n",
      "Epoch 91/100\n",
      "38269/38269 [==============================] - 531s 14ms/step - loss: 0.6220 - accuracy: 0.8785\n",
      "Epoch 92/100\n",
      "38269/38269 [==============================] - 530s 14ms/step - loss: 0.6167 - accuracy: 0.8794\n",
      "Epoch 93/100\n",
      "38269/38269 [==============================] - 530s 14ms/step - loss: 0.6125 - accuracy: 0.8802\n",
      "Epoch 94/100\n",
      "38269/38269 [==============================] - 531s 14ms/step - loss: 0.6086 - accuracy: 0.8809\n",
      "Epoch 95/100\n",
      "38269/38269 [==============================] - 531s 14ms/step - loss: 0.6051 - accuracy: 0.8814\n",
      "Epoch 96/100\n",
      "38269/38269 [==============================] - 531s 14ms/step - loss: 0.6002 - accuracy: 0.8823\n",
      "Epoch 97/100\n",
      "38269/38269 [==============================] - 532s 14ms/step - loss: 0.5963 - accuracy: 0.8828\n",
      "Epoch 98/100\n",
      "38269/38269 [==============================] - 534s 14ms/step - loss: 0.5917 - accuracy: 0.8836\n",
      "Epoch 99/100\n",
      "38269/38269 [==============================] - 533s 14ms/step - loss: 0.5876 - accuracy: 0.8845\n",
      "Epoch 100/100\n",
      "38269/38269 [==============================] - 539s 14ms/step - loss: 0.5847 - accuracy: 0.8847\n"
     ]
    },
    {
     "data": {
      "text/plain": [
       "<keras.callbacks.callbacks.History at 0x151015110>"
      ]
     },
     "execution_count": 156,
     "metadata": {},
     "output_type": "execute_result"
    }
   ],
   "source": [
    "model.fit([encoder_seq, decoder_seq], decoder_output_data, batch_size=64, epochs=100)"
   ]
  },
  {
   "cell_type": "code",
   "execution_count": 157,
   "metadata": {},
   "outputs": [],
   "source": [
    "model.save_weights('model_weights.h5')"
   ]
  },
  {
   "cell_type": "code",
   "execution_count": 169,
   "metadata": {},
   "outputs": [
    {
     "name": "stdout",
     "output_type": "stream",
     "text": [
      "dict_keys(['loss', 'accuracy'])\n"
     ]
    }
   ],
   "source": [
    "print(model.history.history.keys())"
   ]
  },
  {
   "cell_type": "code",
   "execution_count": 170,
   "metadata": {},
   "outputs": [],
   "source": [
    "loss_history = model.history.history['loss']\n",
    "acc_history = model.history.history['accuracy']"
   ]
  },
  {
   "cell_type": "code",
   "execution_count": 178,
   "metadata": {},
   "outputs": [
    {
     "data": {
      "image/png": "[encoded data removed]",
      "text/plain": [
       "<Figure size 576x432 with 1 Axes>"
      ]
     },
     "metadata": {
      "needs_background": "light"
     },
     "output_type": "display_data"
    }
   ],
   "source": [
    "import matplotlib.pyplot as plt\n",
    "plt.rcParams[\"figure.figsize\"] = (8,6)\n",
    "rang = range(1,101)\n",
    "\n",
    "plt.plot(rang, loss_history,\"b\")\n",
    "plt.title('Loss change')\n",
    "plt.xlabel('Epochs')\n",
    "plt.ylabel('Loss')\n",
    "plt.show()"
   ]
  },
  {
   "cell_type": "code",
   "execution_count": 184,
   "metadata": {},
   "outputs": [
    {
     "data": {
      "image/png": "[encoded data removed]",
      "text/plain": [
       "<Figure size 576x432 with 1 Axes>"
      ]
     },
     "metadata": {
      "needs_background": "light"
     },
     "output_type": "display_data"
    }
   ],
   "source": [
    "plt.plot(rang, acc_history,\"g\")\n",
    "plt.title('Accuracy change')\n",
    "plt.xlabel('Epochs')\n",
    "plt.ylabel('Accuracy')\n",
    "plt.show()"
   ]
  },
  {
   "cell_type": "code",
   "execution_count": null,
   "metadata": {},
   "outputs": [],
   "source": []
  }
 ],
 "metadata": {
  "kernelspec": {
   "display_name": "Python 3",
   "language": "python",
   "name": "python3"
  },
  "language_info": {
   "codemirror_mode": {
    "name": "ipython",
    "version": 3
   },
   "file_extension": ".py",
   "mimetype": "text/x-python",
   "name": "python",
   "nbconvert_exporter": "python",
   "pygments_lexer": "ipython3",
   "version": "3.7.6"
  }
 },
 "nbformat": 4,
 "nbformat_minor": 4
}
